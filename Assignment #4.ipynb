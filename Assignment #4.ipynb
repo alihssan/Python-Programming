{
 "cells": [
  {
   "cell_type": "code",
   "execution_count": 18,
   "metadata": {},
   "outputs": [
    {
     "name": "stdout",
     "output_type": "stream",
     "text": [
      "First Name : john\n",
      "Last Name : doe\n",
      "Age : 23\n",
      "City : karachi\n",
      "Qualification : Bachelors\n",
      "Qualification : High Academic Value\n",
      "{'first_name': 'john', 'last_name': 'doe', 'age': 23, 'city': 'karachi', 'Qualification': 'High Academic Value'}\n",
      "{'first_name': 'john', 'last_name': 'doe', 'age': 23, 'city': 'karachi'}\n"
     ]
    }
   ],
   "source": [
    "#Q1\n",
    "Information={'first_name': 'john',\n",
    "              'last_name': 'doe',\n",
    "              'age':23,\n",
    "              'city':'karachi',\n",
    "             }\n",
    "print('First Name :',Information['first_name'])\n",
    "print('Last Name :',Information['last_name'])\n",
    "print('Age :',Information['age'])\n",
    "print('City :',Information['city'])\n",
    "Information['Qualification']='Bachelors'\n",
    "print('Qualification :',Information['Qualification'])\n",
    "Information['Qualification']='High Academic Value'\n",
    "print('Qualification :',Information['Qualification'])\n",
    "print(Information)\n",
    "del Information['Qualification']\n",
    "print(Information)"
   ]
  },
  {
   "cell_type": "code",
   "execution_count": 26,
   "metadata": {},
   "outputs": [
    {
     "name": "stdout",
     "output_type": "stream",
     "text": [
      "Karachi : \n",
      " Pakistan \n",
      " 5 crore \n",
      " City of Lights \n",
      "\n",
      "Lahore : \n",
      " Pakistan \n",
      " 1 crore \n",
      " City of Hearts \n",
      "\n",
      "Islamabad : \n",
      " Pakistan \n",
      " 0.5 crore \n",
      " City of Burgers\n"
     ]
    }
   ],
   "source": [
    "#Q2\n",
    "cities={'karachi':\n",
    "        {'country': 'Pakistan','Population':'5 crore','Fact':'City of Lights'},\n",
    "        'lahore':\n",
    "        {'country': 'Pakistan','Population':'1 crore','Fact':'City of Hearts'},\n",
    "        'Islamabad':\n",
    "        {'country': 'Pakistan','Population':'0.5 crore','Fact':'City of Burgers'}\n",
    "       }\n",
    "print('Karachi :','\\n',cities['karachi']['country'],'\\n',cities['karachi']['Population'],'\\n',cities['karachi']['Fact'],'\\n')\n",
    "print('Lahore :','\\n',cities['lahore']['country'],'\\n',cities['lahore']['Population'],'\\n',cities['lahore']['Fact'],'\\n')\n",
    "print('Islamabad :','\\n',cities['Islamabad']['country'],'\\n',cities['Islamabad']['Population'],'\\n',cities['Islamabad']['Fact'])"
   ]
  },
  {
   "cell_type": "code",
   "execution_count": 27,
   "metadata": {},
   "outputs": [
    {
     "name": "stdout",
     "output_type": "stream",
     "text": [
      "Enter Your Age19\n",
      "Your total cost = 15 $\n"
     ]
    }
   ],
   "source": [
    "#Q3.\n",
    "age=int(input('Enter Your Age'))\n",
    "if age==3:\n",
    "    print('Your total cost =',0)\n",
    "if age>3 and age<12:\n",
    "    print('Your total cost =',10,'$')\n",
    "if age>12:\n",
    "    print('Your total cost =',15,'$')\n",
    "    "
   ]
  },
  {
   "cell_type": "code",
   "execution_count": 29,
   "metadata": {},
   "outputs": [
    {
     "name": "stdout",
     "output_type": "stream",
     "text": [
      "One of my favourite book is  Brief History of Time By Stephen Hawking\n"
     ]
    }
   ],
   "source": [
    "#Q4.\n",
    "def favourite_book(book):\n",
    "    print('One of my favourite book is ',book,'By Stephen Hawking')\n",
    "\n",
    "favourite_book('Brief History of Time')"
   ]
  },
  {
   "cell_type": "code",
   "execution_count": 37,
   "metadata": {},
   "outputs": [
    {
     "name": "stdout",
     "output_type": "stream",
     "text": [
      "Enter any Integer Number24\n",
      "You Guessed it Wrong\n",
      "20\n"
     ]
    }
   ],
   "source": [
    "#Q5.\n",
    "random import randrange\n",
    "guessnumber=int(input('Enter any Integer Number'))\n",
    "real=randrange(30)\n",
    "if guessnumber==real:\n",
    "    print('You Guessed it correctly')\n",
    "else :\n",
    "    print('You Guessed it Wrong')\n"
   ]
  },
  {
   "cell_type": "code",
   "execution_count": null,
   "metadata": {},
   "outputs": [],
   "source": []
  }
 ],
 "metadata": {
  "kernelspec": {
   "display_name": "Python 3",
   "language": "python",
   "name": "python3"
  },
  "language_info": {
   "codemirror_mode": {
    "name": "ipython",
    "version": 3
   },
   "file_extension": ".py",
   "mimetype": "text/x-python",
   "name": "python",
   "nbconvert_exporter": "python",
   "pygments_lexer": "ipython3",
   "version": "3.7.3"
  }
 },
 "nbformat": 4,
 "nbformat_minor": 2
}
