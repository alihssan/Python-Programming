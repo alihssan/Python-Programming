{
 "cells": [
  {
   "cell_type": "code",
   "execution_count": 1,
   "metadata": {},
   "outputs": [
    {
     "name": "stdout",
     "output_type": "stream",
     "text": [
      "Enter Your First Number24\n",
      "Enter Your Second Number45\n",
      "Enter The function to be Perform :addition\n",
      "69\n"
     ]
    }
   ],
   "source": [
    "#Q1.Python Calculator\n",
    "input_first_number=int(input(\"Enter Your First Number\"))\n",
    "input_Second_number=int(input(\"Enter Your Second Number\"))\n",
    "Function=str(input(\"Enter The function to be Perform :\"))\n",
    "if Function=='addition':\n",
    "    ans=input_first_number+input_Second_number\n",
    "    print(ans)\n",
    "elif Function=='subtraction':\n",
    "    ans=input_first_number-input_Second_number\n",
    "    print(ans)\n",
    "elif Function=='multiplication':\n",
    "    ans=input_first_number*input_Second_number\n",
    "    print(ans)\n",
    "elif Function=='division':\n",
    "    ans=input_first_number/input_Second_number\n",
    "    print(ans)\n"
   ]
  },
  {
   "cell_type": "code",
   "execution_count": 2,
   "metadata": {},
   "outputs": [
    {
     "name": "stdout",
     "output_type": "stream",
     "text": [
      "There is a numeric value at 1\n"
     ]
    }
   ],
   "source": [
    "#Q2.Numeric Value Checker\n",
    "a=['1',2,'elephant','cat','dog']\n",
    "for i in range(0,len(a)):\n",
    "    if type(a[i])==int:\n",
    "        print('There is a numeric value at',i)\n",
    "\n"
   ]
  },
  {
   "cell_type": "code",
   "execution_count": 3,
   "metadata": {},
   "outputs": [
    {
     "name": "stdout",
     "output_type": "stream",
     "text": [
      "{1: 'python', 2: 'javascript', 3: 'Java', 4: 'Cplusplus', 5: 'Rust'}\n"
     ]
    }
   ],
   "source": [
    "#Q3. To add a key in dictionary.\n",
    "dictionary=dict({1:'python',2:'javascript',3:'Java',4:'Cplusplus'})\n",
    "dictionary[5]='Rust'\n",
    "print(dictionary)\n"
   ]
  },
  {
   "cell_type": "code",
   "execution_count": 4,
   "metadata": {},
   "outputs": [
    {
     "name": "stdout",
     "output_type": "stream",
     "text": [
      "7\n"
     ]
    }
   ],
   "source": [
    "#Q4. To sum all numeric values in dictionary.\n",
    "dictionary2=dict({1:1,2:2,3:4,4:'Rust',5:'Java'})\n",
    "cache=0\n",
    "for i in range(1,len(dictionary2)):\n",
    "    if type(dictionary2[i])==int:\n",
    "        cache+=dictionary2[i]\n",
    "print(cache)"
   ]
  },
  {
   "cell_type": "code",
   "execution_count": 5,
   "metadata": {},
   "outputs": [
    {
     "name": "stdout",
     "output_type": "stream",
     "text": [
      "[6, 6, 11, 11, 23, 23]\n"
     ]
    }
   ],
   "source": [
    "#Q5. To identify Duplicate values in list.\n",
    "list_none=[1,2,3,4,5,6,7,6,8,9,10,11,11,23,23]\n",
    "new=[]\n",
    "for i in range(0,len(list_none)):\n",
    "     if (list_none.count(list_none[i]))>1:\n",
    "            new.append(list_none[i])\n",
    "print(new)\n"
   ]
  },
  {
   "cell_type": "code",
   "execution_count": 7,
   "metadata": {},
   "outputs": [
    {
     "name": "stdout",
     "output_type": "stream",
     "text": [
      "Enter the Key to Find :Rust\n",
      "This Value exist\n"
     ]
    }
   ],
   "source": [
    "#Q6 .To check if key already exist\n",
    "key_to_find=str(input('Enter the Key to Find :'))\n",
    "for i in dictionary2.keys():\n",
    "    if dictionary2[i]==key_to_find:\n",
    "        print('This Value exist')"
   ]
  },
  {
   "cell_type": "code",
   "execution_count": null,
   "metadata": {},
   "outputs": [],
   "source": []
  },
  {
   "cell_type": "code",
   "execution_count": null,
   "metadata": {},
   "outputs": [],
   "source": []
  }
 ],
 "metadata": {
  "kernelspec": {
   "display_name": "Python 3",
   "language": "python",
   "name": "python3"
  },
  "language_info": {
   "codemirror_mode": {
    "name": "ipython",
    "version": 3
   },
   "file_extension": ".py",
   "mimetype": "text/x-python",
   "name": "python",
   "nbconvert_exporter": "python",
   "pygments_lexer": "ipython3",
   "version": "3.7.3"
  }
 },
 "nbformat": 4,
 "nbformat_minor": 2
}
