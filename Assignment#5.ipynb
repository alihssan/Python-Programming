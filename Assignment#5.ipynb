{
 "cells": [
  {
   "cell_type": "code",
   "execution_count": 4,
   "metadata": {},
   "outputs": [
    {
     "name": "stdout",
     "output_type": "stream",
     "text": [
      "Enter any number-1\n",
      "Not Possible\n"
     ]
    }
   ],
   "source": [
    "#Q1 Factorial of a number\n",
    "def Factorial(n):\n",
    "    fact=1\n",
    "    if n>=1:\n",
    "        for i in range(1,n+1):\n",
    "            fact*=i\n",
    "        return fact\n",
    "    if n==0:\n",
    "        return 1\n",
    "    if n<0:\n",
    "        return -1\n",
    "input_int=int(input('Enter any number'))  \n",
    "factorial=Factorial(input_int)\n",
    "if factorial==-1:\n",
    "    print('Not Possible')\n",
    "else:\n",
    "    print('The Factorial is given by : ',factorial)"
   ]
  },
  {
   "cell_type": "code",
   "execution_count": 6,
   "metadata": {},
   "outputs": [
    {
     "name": "stdout",
     "output_type": "stream",
     "text": [
      "Enter any stringAliHassan\n",
      "There are 2 upper case letters & 7 lower case letters\n"
     ]
    }
   ],
   "source": [
    "#Q2 Upper case and lower case\n",
    "def Upper_lower(string):\n",
    "    counter_upper=0\n",
    "    counter_lower=0\n",
    "    for i in range(len(string)):\n",
    "        if string[i].isupper()==True:\n",
    "            counter_upper+=1\n",
    "        elif string[i].islower()==True:\n",
    "            counter_lower+=1\n",
    "    return counter_upper,counter_lower\n",
    "input_str=input('Enter any string')\n",
    "upper,lower=Upper_lower(input_str)\n",
    "print('There are',upper,'upper case letters &',lower,'lower case letters')\n",
    "\n",
    "        \n",
    "            "
   ]
  },
  {
   "cell_type": "code",
   "execution_count": 10,
   "metadata": {},
   "outputs": [
    {
     "name": "stdout",
     "output_type": "stream",
     "text": [
      "2\n",
      "4\n",
      "6\n",
      "8\n",
      "10\n"
     ]
    }
   ],
   "source": [
    "#Q3 Print Even Numbers from given list\n",
    "def Print_Even_Number(listt):\n",
    "    for i in range(len(listt)):\n",
    "        if (listt[i])%2==0:\n",
    "            print(listt[i])\n",
    "A=[1,2,3,4,5,6,7,8,9,10]\n",
    "Print_Even_Number(A)\n"
   ]
  },
  {
   "cell_type": "code",
   "execution_count": 16,
   "metadata": {},
   "outputs": [
    {
     "name": "stdout",
     "output_type": "stream",
     "text": [
      "The Number is not Prime\n"
     ]
    }
   ],
   "source": [
    "#Q5 Check prime or not\n",
    "def Prime(n):\n",
    "    if n==1 or n==2:\n",
    "        print('The Number is Prime')\n",
    "    elif n>2:\n",
    "        for i in range(2,n):\n",
    "            if n%i==0:\n",
    "                print('The Number is not Prime')\n",
    "                break\n",
    "            else:\n",
    "                 print('The Number is Prime')\n",
    "                 break\n",
    "Prime(28)"
   ]
  },
  {
   "cell_type": "code",
   "execution_count": 19,
   "metadata": {},
   "outputs": [
    {
     "name": "stdout",
     "output_type": "stream",
     "text": [
      "Enter The First Itembag\n",
      "Enter The Second Itemrice\n",
      "Enter The Third Itemchoclates\n",
      "You Bought  bag\n",
      "You Bought  rice\n",
      "You Bought  choclates\n"
     ]
    }
   ],
   "source": [
    "#Q6 Shopping App\n",
    "def Shopping(field1,field2,field3):\n",
    "    print('You Bought ',field1)\n",
    "    print('You Bought ',field2)\n",
    "    print('You Bought ',field3)\n",
    "input1=input('Enter The First Item')\n",
    "input2=input('Enter The Second Item')\n",
    "input3=input('Enter The Third Item')\n",
    "Shopping(input1,input2,input3)"
   ]
  },
  {
   "cell_type": "code",
   "execution_count": null,
   "metadata": {},
   "outputs": [],
   "source": [
    "#Q7 Pallindrome\n"
   ]
  }
 ],
 "metadata": {
  "kernelspec": {
   "display_name": "Python 3",
   "language": "python",
   "name": "python3"
  },
  "language_info": {
   "codemirror_mode": {
    "name": "ipython",
    "version": 3
   },
   "file_extension": ".py",
   "mimetype": "text/x-python",
   "name": "python",
   "nbconvert_exporter": "python",
   "pygments_lexer": "ipython3",
   "version": "3.7.3"
  }
 },
 "nbformat": 4,
 "nbformat_minor": 2
}
