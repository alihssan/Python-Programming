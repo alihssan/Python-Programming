{
 "cells": [
  {
   "cell_type": "code",
   "execution_count": null,
   "metadata": {},
   "outputs": [],
   "source": [
    "import pandas as pd\n",
    "import numpy as np\n",
    "from sklearn import preprocessing\n",
    "from sklearn.model_selection import train_test_split\n"
   ]
  },
  {
   "cell_type": "code",
   "execution_count": null,
   "metadata": {},
   "outputs": [],
   "source": [
    "max_min_scale=preprocessing.MinMaxScaler()\n",
    "data=pd.read_csv(r\"C:\\Users\\user\\Desktop\\housepricedata.csv\")\n",
    "x_data=data.iloc[:,0:10].values\n",
    "y_data=data.iloc[:,10].values\n",
    "y_data_f=y_data.reshape(1460,1)\n",
    "X_scale=max_min_scale.fit_transform(x_data)\n",
    "X_train,X_test_val,Y_train,Y_test_val=train_test_split(X_scale,y_data_f,test_size=0.3)\n",
    "X_test,X_val,Y_test,Y_val=train_test_split(X_test_val,Y_test_val,test_size=0.5)\n"
   ]
  },
  {
   "cell_type": "code",
   "execution_count": null,
   "metadata": {},
   "outputs": [],
   "source": [
    "n_input_layer=X_train.shape[1]\n",
    "def initiliaze_parameters(layer_dims):\n",
    "    parameters={}\n",
    "    L=len(layer_dims)\n",
    "    for l in range(1,L):\n",
    "        parameters['W'+str(l)]=np.random.randn(layer_dims[l],layer_dims[l-1])*0.01\n",
    "        parameters['B'+str(l)]=np.zeros((layer_dims[l],1))\n",
    "    return parameters \n",
    "\n"
   ]
  },
  {
   "cell_type": "code",
   "execution_count": null,
   "metadata": {},
   "outputs": [],
   "source": [
    "def sigmoid(Z):\n",
    "    sigmoid=(1 / (1+np.exp(-Z)))\n",
    "    return sigmoid\n",
    "def relu(Z):\n",
    "    relu=np.maximum(Z)\n",
    "    return relu "
   ]
  },
  {
   "cell_type": "code",
   "execution_count": null,
   "metadata": {},
   "outputs": [],
   "source": [
    "def linear_forward(A,w,b):\n",
    "    z=np.dot(w,A)+b\n",
    "    cache=(A,w,b)\n",
    "    return z,cache\n",
    "\n",
    "   \n",
    "        \n",
    "        "
   ]
  },
  {
   "cell_type": "code",
   "execution_count": null,
   "metadata": {},
   "outputs": [],
   "source": [
    "def linear_activation_forward(A_prev,w,b,activation):\n",
    "    if activation==\"sigmoid\":\n",
    "        z,linear_cache=linear_forward(A_prev,w,b)\n",
    "        A,activation_cache=sigmoid(z)\n",
    "    elif activation==\"relu\":\n",
    "        z,linear_cache=linear_forward(A_prev,w,b)\n",
    "        A,activation_cache=relu(z)\n",
    "    cache=(linear_cache,activation_cache)\n",
    "    return A,cache\n",
    "\n",
    "\n",
    "\n"
   ]
  },
  {
   "cell_type": "code",
   "execution_count": null,
   "metadata": {},
   "outputs": [],
   "source": [
    "def feed_forward(layer_dims,A):\n",
    "    A=X_train\n",
    "    cache=[]\n",
    "    L=len(layer_dims)\n",
    "    parameters=initiliaze_parameters(layer_dims)\n",
    "    for l in range(1,L):\n",
    "        A_prev=A\n",
    "        A,cache=linear_activation_forward(A_prev,parameters['W'+str(l)],parameters['B'+str(l)],activation=\"relu\")\n",
    "        cache.append(cache)\n",
    "    AL,cache=linear_activation_forward(A,parameters['W'+str(L)],parameters['B'+str(L)],activation=\"sigmoid\")\n",
    "    cache.append(cache)\n",
    "    return cache,AL\n",
    "        \n",
    "    "
   ]
  },
  {
   "cell_type": "code",
   "execution_count": null,
   "metadata": {},
   "outputs": [],
   "source": [
    "def cost_function(AL,Y_train):\n",
    "    m=Y_train.shape\n",
    "    cost = (-1/m) * np.sum(np.multiply(Y_train,np.log(AL))+ np.multiply(1-Y_train,np.log(1-AL)))\n",
    "    cost = np.squeeze(cost) \n",
    "    return cost\n",
    "    \n",
    "    "
   ]
  },
  {
   "cell_type": "code",
   "execution_count": null,
   "metadata": {},
   "outputs": [],
   "source": []
  },
  {
   "cell_type": "code",
   "execution_count": null,
   "metadata": {},
   "outputs": [],
   "source": []
  }
 ],
 "metadata": {
  "kernelspec": {
   "display_name": "Python 3",
   "language": "python",
   "name": "python3"
  },
  "language_info": {
   "codemirror_mode": {
    "name": "ipython",
    "version": 3
   },
   "file_extension": ".py",
   "mimetype": "text/x-python",
   "name": "python",
   "nbconvert_exporter": "python",
   "pygments_lexer": "ipython3",
   "version": "3.7.3"
  }
 },
 "nbformat": 4,
 "nbformat_minor": 2
}
