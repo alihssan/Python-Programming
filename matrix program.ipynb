{
 "cells": [
  {
   "cell_type": "code",
   "execution_count": 76,
   "metadata": {},
   "outputs": [
    {
     "name": "stdout",
     "output_type": "stream",
     "text": [
      "ENter numbers1,2,3,4,5,6,7,8,9,10,11,12,13,14,15,16,17,18,19,20\n",
      "20\n",
      "\n",
      "\n",
      "1   2   3   4   5   6   7   8   9   10   \n",
      "\n",
      "11   12   13   14   15   16   17   18   19   20   "
     ]
    }
   ],
   "source": [
    "#Taking elements of 2x10 matrix from user through input function. Print them in form of rows and colomns without using split\n",
    "# function.\n",
    "d=input('ENter numbers')\n",
    "commaback=0\n",
    "commafor=0\n",
    "k=[]\n",
    "for i in range(0,len(d)):\n",
    "    if d[i]==',':\n",
    "        commafor=i\n",
    "        n=commafor-commaback\n",
    "        if n>=1:\n",
    "            m=int(d[commaback:commafor])\n",
    "            k.append(m)\n",
    "        commaback=commafor+1\n",
    "commaback=commafor\n",
    "if commaback==commafor and commaback!=0 and commafor!=0:\n",
    "            commafor=len(d)\n",
    "            commaback+=1\n",
    "            n=commafor-commaback\n",
    "            if n>=1:\n",
    "                m=int(d[commaback:commafor])\n",
    "                print(m)\n",
    "                k.append(m)\n",
    "counter=0\n",
    "for j in range(0,20):\n",
    "    if counter%10==0:\n",
    "        print('\\n')\n",
    "    print(k[j],end='   ')\n",
    "    counter+=1\n",
    "toc1=toc.time()"
   ]
  },
  {
   "cell_type": "code",
   "execution_count": null,
   "metadata": {},
   "outputs": [],
   "source": [
    "\n",
    "                "
   ]
  },
  {
   "cell_type": "code",
   "execution_count": null,
   "metadata": {},
   "outputs": [],
   "source": []
  },
  {
   "cell_type": "code",
   "execution_count": null,
   "metadata": {},
   "outputs": [],
   "source": []
  }
 ],
 "metadata": {
  "kernelspec": {
   "display_name": "Python 3",
   "language": "python",
   "name": "python3"
  },
  "language_info": {
   "codemirror_mode": {
    "name": "ipython",
    "version": 3
   },
   "file_extension": ".py",
   "mimetype": "text/x-python",
   "name": "python",
   "nbconvert_exporter": "python",
   "pygments_lexer": "ipython3",
   "version": "3.7.3"
  }
 },
 "nbformat": 4,
 "nbformat_minor": 2
}
